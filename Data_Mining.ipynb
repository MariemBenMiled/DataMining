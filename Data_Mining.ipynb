{
  "nbformat": 4,
  "nbformat_minor": 0,
  "metadata": {
    "colab": {
      "provenance": []
    },
    "kernelspec": {
      "name": "python3",
      "display_name": "Python 3"
    },
    "language_info": {
      "name": "python"
    }
  },
  "cells": [
    {
      "cell_type": "code",
      "execution_count": null,
      "metadata": {
        "id": "LtprwLeX0IMM"
      },
      "outputs": [],
      "source": [
        "import pandas as pd\n",
        "import matplotlib.pyplot as plt\n",
        "\n"
      ]
    },
    {
      "cell_type": "code",
      "source": [
        "# Load dataset\n",
        "data = pd.read_csv(\"Data_T4_2023.csv\")  # Update the file path as needed\n",
        "\n"
      ],
      "metadata": {
        "colab": {
          "base_uri": "https://localhost:8080/"
        },
        "id": "cG3uTWFI2lFZ",
        "outputId": "e5405e56-c5cb-4b60-fa61-206d94a45d46"
      },
      "execution_count": null,
      "outputs": [
        {
          "output_type": "stream",
          "name": "stderr",
          "text": [
            "<ipython-input-3-4b2e0ed69e91>:2: DtypeWarning: Columns (21,22) have mixed types. Specify dtype option on import or set low_memory=False.\n",
            "  data = pd.read_csv(\"Data_T4_2023.csv\")  # Update the file path as needed\n"
          ]
        }
      ]
    },
    {
      "cell_type": "code",
      "source": [
        "# Part 1: Data Exploration\n",
        "print(f\"Dataset dimensions: {data.shape}\")\n",
        "print(\"Column names and types:\\n\", data.dtypes)\n",
        "\n",
        "\n"
      ],
      "metadata": {
        "colab": {
          "base_uri": "https://localhost:8080/"
        },
        "id": "uCBkUGMt2saI",
        "outputId": "5b63f328-2477-4801-8c7e-ec459683ed53"
      },
      "execution_count": null,
      "outputs": [
        {
          "output_type": "stream",
          "name": "stdout",
          "text": [
            "Dataset dimensions: (67444, 41)\n",
            "Column names and types:\n",
            " Y_Quarter                     int64\n",
            "Year                          int64\n",
            "Quarter                       int64\n",
            "Region                       object\n",
            "HH_Id                         int64\n",
            "Member_Number                 int64\n",
            "Relationship                 object\n",
            "Gender                       object\n",
            "Age                           int64\n",
            "Civil_Status                 object\n",
            "Attend_edu_trai_cycle        object\n",
            "Edu_cycle                    object\n",
            "Edu_Year                    float64\n",
            "Literacy                     object\n",
            "Educa_Level                  object\n",
            "Edu_Comp_Year               float64\n",
            "Edu_Degr_Diploma             object\n",
            "Year_Of_Diploma             float64\n",
            "Unstructured_Educational     object\n",
            "Paid_Work_7d                 object\n",
            "Unpaid_Work                  object\n",
            "Agric_Work                   object\n",
            "Sale_or_Self_cons            object\n",
            "Reason_Not_Work              object\n",
            "Look_for_Work                object\n",
            "Procedure_Look               object\n",
            "Reason_Not_Looking           object\n",
            "Desire_to_Work               object\n",
            "Ready_Available              object\n",
            "Class_Activity               object\n",
            "Workplace                   float64\n",
            "Occupation                  float64\n",
            "Status_Work                 float64\n",
            "Social_Fund                  object\n",
            "Environment                  object\n",
            "Sector_of_Activity_2         object\n",
            "Sector_of_Activity           object\n",
            "Diploma_Agg                  object\n",
            "High_Diploma                 object\n",
            "hh_size                       int64\n",
            "Weight                      float64\n",
            "dtype: object\n"
          ]
        }
      ]
    },
    {
      "cell_type": "code",
      "source": [
        "# Display the first and last 5 rows\n",
        "print(\"First 5 rows:\\n\", data.head())\n",
        "print(\"Last 5 rows:\\n\", data.tail())\n"
      ],
      "metadata": {
        "colab": {
          "base_uri": "https://localhost:8080/"
        },
        "id": "lD_-5ToY2wFK",
        "outputId": "23e57524-7f22-4d84-fbf5-25d7f0f2e351"
      },
      "execution_count": null,
      "outputs": [
        {
          "output_type": "stream",
          "name": "stdout",
          "text": [
            "First 5 rows:\n",
            "    Y_Quarter  Year  Quarter       Region  HH_Id  Member_Number  \\\n",
            "0      20234  2023        4  Grand Tunis      1              1   \n",
            "1      20234  2023        4  Grand Tunis      2              4   \n",
            "2      20234  2023        4  Grand Tunis      2              3   \n",
            "3      20234  2023        4  Grand Tunis      2              1   \n",
            "4      20234  2023        4  Grand Tunis      2              2   \n",
            "\n",
            "            Relationship    Gender  Age Civil_Status  ... Occupation  \\\n",
            "0  1- Head of the family  2.Female   90      3.Widow  ...        NaN   \n",
            "1    3- Son/daughter (1)    1.Male   15     1.Single  ...        NaN   \n",
            "2    3- Son/daughter (1)  2.Female   10     1.Single  ...        NaN   \n",
            "3  1- Head of the family    1.Male   46    2.Married  ...    42240.0   \n",
            "4      2-       Wife (1)  2.Female   46    2.Married  ...        NaN   \n",
            "\n",
            "  Status_Work  Social_Fund Environment Sector_of_Activity_2  \\\n",
            "0         NaN          NaN     1.Urban                  NaN   \n",
            "1         NaN          NaN     1.Urban                  NaN   \n",
            "2         NaN          NaN     1.Urban                  NaN   \n",
            "3         3.0         CNSS     1.Urban   55 - Accommodation   \n",
            "4         NaN          NaN     1.Urban                  NaN   \n",
            "\n",
            "                              Sector_of_Activity   Diploma_Agg  High_Diploma  \\\n",
            "0                                            NaN  Not declared          2.No   \n",
            "1                                            NaN  Not declared          2.No   \n",
            "2                                            NaN           NaN           NaN   \n",
            "3  9 - ACCOMMODATION AND FOOD SERVICE ACTIVITIES    No diploma          2.No   \n",
            "4                                            NaN    No diploma          2.No   \n",
            "\n",
            "  hh_size      Weight  \n",
            "0       1  228.702160  \n",
            "1       4  299.179050  \n",
            "2       4  450.535280  \n",
            "3       4  871.959290  \n",
            "4       4   61.222305  \n",
            "\n",
            "[5 rows x 41 columns]\n",
            "Last 5 rows:\n",
            "        Y_Quarter  Year  Quarter      Region  HH_Id  Member_Number  \\\n",
            "67439      20234  2023        4  South West   2200              1   \n",
            "67440      20234  2023        4  South West   2200              2   \n",
            "67441      20234  2023        4  South West   2200              3   \n",
            "67442      20234  2023        4  South West   2201              2   \n",
            "67443      20234  2023        4  South West   2201              1   \n",
            "\n",
            "                Relationship    Gender  Age Civil_Status  ... Occupation  \\\n",
            "67439  1- Head of the family  2.Female   65      3.Widow  ...        NaN   \n",
            "67440    3- Son/daughter (1)    1.Male   36     1.Single  ...        NaN   \n",
            "67441    3- Son/daughter (1)    1.Male   43     1.Single  ...        NaN   \n",
            "67442     7-  father (wife)1  2.Female   40   4.Divorced  ...        NaN   \n",
            "67443  1- Head of the family  2.Female   52     1.Single  ...        NaN   \n",
            "\n",
            "      Status_Work  Social_Fund Environment Sector_of_Activity_2  \\\n",
            "67439         NaN          NaN     2.Rural                  NaN   \n",
            "67440         NaN          NaN     2.Rural                  NaN   \n",
            "67441         NaN          NaN     2.Rural                  NaN   \n",
            "67442         NaN          NaN     2.Rural                  NaN   \n",
            "67443         NaN          NaN     2.Rural                  NaN   \n",
            "\n",
            "       Sector_of_Activity   Diploma_Agg  High_Diploma hh_size     Weight  \n",
            "67439                 NaN  Not declared          2.No       3  49.261948  \n",
            "67440                 NaN    No diploma          2.No       3  67.999039  \n",
            "67441                 NaN    No diploma          2.No       3  56.446621  \n",
            "67442                 NaN  Not declared          2.No       2  55.307407  \n",
            "67443                 NaN  Not declared          2.No       2  45.472992  \n",
            "\n",
            "[5 rows x 41 columns]\n"
          ]
        }
      ]
    },
    {
      "cell_type": "code",
      "source": [
        "# Check for missing values\n",
        "missing_values = data.isnull().sum()\n",
        "print(\"Missing values per column:\\n\", missing_values)\n"
      ],
      "metadata": {
        "colab": {
          "base_uri": "https://localhost:8080/"
        },
        "id": "_1CpSCTT22FZ",
        "outputId": "f3f43841-8fc3-476a-9147-01b8167cea8e"
      },
      "execution_count": null,
      "outputs": [
        {
          "output_type": "stream",
          "name": "stdout",
          "text": [
            "Missing values per column:\n",
            " Y_Quarter                       0\n",
            "Year                            0\n",
            "Quarter                         0\n",
            "Region                          0\n",
            "HH_Id                           0\n",
            "Member_Number                   0\n",
            "Relationship                    0\n",
            "Gender                          0\n",
            "Age                             0\n",
            "Civil_Status                    0\n",
            "Attend_edu_trai_cycle        2237\n",
            "Edu_cycle                   48901\n",
            "Edu_Year                    50985\n",
            "Literacy                    20771\n",
            "Educa_Level                 30448\n",
            "Edu_Comp_Year               30801\n",
            "Edu_Degr_Diploma            31384\n",
            "Year_Of_Diploma             57316\n",
            "Unstructured_Educational    31199\n",
            "Paid_Work_7d                16266\n",
            "Unpaid_Work                 34860\n",
            "Agric_Work                  67216\n",
            "Sale_or_Self_cons           67242\n",
            "Reason_Not_Work             35035\n",
            "Look_for_Work               35363\n",
            "Procedure_Look              63661\n",
            "Reason_Not_Looking          39145\n",
            "Desire_to_Work              39020\n",
            "Ready_Available             62439\n",
            "Class_Activity              16353\n",
            "Workplace                   65486\n",
            "Occupation                  48472\n",
            "Status_Work                 48465\n",
            "Social_Fund                 48911\n",
            "Environment                     0\n",
            "Sector_of_Activity_2        48472\n",
            "Sector_of_Activity          48475\n",
            "Diploma_Agg                 16206\n",
            "High_Diploma                16206\n",
            "hh_size                         0\n",
            "Weight                          0\n",
            "dtype: int64\n"
          ]
        }
      ]
    },
    {
      "cell_type": "code",
      "source": [
        "\n",
        "# Check for duplicate rows\n",
        "duplicates = data.duplicated().sum()\n",
        "print(f\"Number of duplicate rows: {duplicates}\")\n",
        "\n"
      ],
      "metadata": {
        "colab": {
          "base_uri": "https://localhost:8080/"
        },
        "id": "07j1zutn29BC",
        "outputId": "4326b76b-73d0-4378-9071-4c2360d45d5e"
      },
      "execution_count": null,
      "outputs": [
        {
          "output_type": "stream",
          "name": "stdout",
          "text": [
            "Number of duplicate rows: 0\n"
          ]
        }
      ]
    },
    {
      "cell_type": "code",
      "source": [
        "# Part 2A: Voluntary Unemployed\n",
        "# Unique values in 'Desire_to_Work'\n",
        "unique_values = data['Desire_to_Work'].unique()\n",
        "value_counts = data['Desire_to_Work'].value_counts()\n",
        "print(f\"Unique values in 'Desire_to_Work': {unique_values}\")\n",
        "print(\"Frequency of unique values:\\n\", value_counts)\n"
      ],
      "metadata": {
        "colab": {
          "base_uri": "https://localhost:8080/"
        },
        "id": "z8rrAWcb3FS4",
        "outputId": "a77ccee7-2527-449d-994e-1ee3091ee705"
      },
      "execution_count": null,
      "outputs": [
        {
          "output_type": "stream",
          "name": "stdout",
          "text": [
            "Unique values in 'Desire_to_Work': ['2.No' nan '1.Yes']\n",
            "Frequency of unique values:\n",
            " Desire_to_Work\n",
            "2.No     27076\n",
            "1.Yes     1348\n",
            "Name: count, dtype: int64\n"
          ]
        }
      ]
    },
    {
      "cell_type": "code",
      "source": [
        "\n",
        "# Handle missing and inconsistent values in 'Desire_to_Work'\n",
        "data['Desire_to_Work'] = data['Desire_to_Work'].replace({\n",
        "    \"2.No\": \"No\",\n",
        "    \"1.Yes\": \"Yes\",\n",
        "    # If there are more inconsistent values, handle them here\n",
        "})\n",
        "data['Desire_to_Work'].fillna('Not specified', inplace=True)\n",
        "print(\"Updated Desire_to_Work:\\n\", data['Desire_to_Work'].head())\n"
      ],
      "metadata": {
        "colab": {
          "base_uri": "https://localhost:8080/"
        },
        "id": "CQqYR4mH3IgD",
        "outputId": "f69305c2-1db6-4176-e26a-6843017f6b4c"
      },
      "execution_count": null,
      "outputs": [
        {
          "output_type": "stream",
          "name": "stdout",
          "text": [
            "Updated Desire_to_Work:\n",
            " 0               No\n",
            "1               No\n",
            "2    Not specified\n",
            "3    Not specified\n",
            "4    Not specified\n",
            "Name: Desire_to_Work, dtype: object\n"
          ]
        },
        {
          "output_type": "stream",
          "name": "stderr",
          "text": [
            "<ipython-input-10-a06bbc79ae6f>:7: FutureWarning: A value is trying to be set on a copy of a DataFrame or Series through chained assignment using an inplace method.\n",
            "The behavior will change in pandas 3.0. This inplace method will never work because the intermediate object on which we are setting values always behaves as a copy.\n",
            "\n",
            "For example, when doing 'df[col].method(value, inplace=True)', try using 'df.method({col: value}, inplace=True)' or df[col] = df[col].method(value) instead, to perform the operation inplace on the original object.\n",
            "\n",
            "\n",
            "  data['Desire_to_Work'].fillna('Not specified', inplace=True)\n"
          ]
        }
      ]
    },
    {
      "cell_type": "code",
      "source": [
        "\n",
        "# Extract individuals aged between 25 and 29 who do not wish to work\n",
        "voluntary_unemployed = data[\n",
        "    (data['Age'] >= 25) & (data['Age'] <= 29) & (data['Desire_to_Work'] == 'No')\n",
        "][['Age', 'Civil_Status', 'Environment', 'Desire_to_Work']]\n",
        "\n"
      ],
      "metadata": {
        "id": "GYBGIccR3O_P"
      },
      "execution_count": null,
      "outputs": []
    },
    {
      "cell_type": "code",
      "source": [
        "# Ensure there are data points before saving to CSV\n",
        "if not voluntary_unemployed.empty:\n",
        "    voluntary_unemployed.to_csv(\"chomeurs_volontaires.csv\", index=False)\n",
        "    print(\"Voluntary unemployed data saved to chomeurs_volontaires.csv\")\n",
        "else:\n",
        "    print(\"No voluntary unemployed data found for individuals aged 25-29 who do not wish to work.\")\n"
      ],
      "metadata": {
        "colab": {
          "base_uri": "https://localhost:8080/"
        },
        "id": "AZ1iwwBh3Soq",
        "outputId": "a2223b40-d17f-4cd5-97c9-a28324ec8dfa"
      },
      "execution_count": null,
      "outputs": [
        {
          "output_type": "stream",
          "name": "stdout",
          "text": [
            "Voluntary unemployed data saved to chomeurs_volontaires.csv\n"
          ]
        }
      ]
    },
    {
      "cell_type": "code",
      "source": [
        "\n",
        "# Distribution of civil status\n",
        "civil_status_dist = voluntary_unemployed['Civil_Status'].value_counts()\n",
        "print(\"Civil Status Distribution in voluntary unemployed:\\n\", civil_status_dist)\n"
      ],
      "metadata": {
        "colab": {
          "base_uri": "https://localhost:8080/"
        },
        "id": "nfgYrNle3Vfw",
        "outputId": "1afc944c-f38c-40d1-dbfd-fb7de2e3b702"
      },
      "execution_count": null,
      "outputs": [
        {
          "output_type": "stream",
          "name": "stdout",
          "text": [
            "Civil Status Distribution in voluntary unemployed:\n",
            " Civil_Status\n",
            "2.Married     474\n",
            "1.Single      432\n",
            "4.Divorced      9\n",
            "3.Widow         4\n",
            "Name: count, dtype: int64\n"
          ]
        }
      ]
    },
    {
      "cell_type": "code",
      "source": [
        "\n",
        "# Preferred environments\n",
        "environment_dist = voluntary_unemployed['Environment'].value_counts()\n",
        "print(\"Preferred Environments:\\n\", environment_dist)\n"
      ],
      "metadata": {
        "colab": {
          "base_uri": "https://localhost:8080/"
        },
        "id": "i9jgTK9s3Yfl",
        "outputId": "14e25ab8-ebec-43b6-c66b-a3aa5ef0f184"
      },
      "execution_count": null,
      "outputs": [
        {
          "output_type": "stream",
          "name": "stdout",
          "text": [
            "Preferred Environments:\n",
            " Environment\n",
            "1.Urban    523\n",
            "2.Rural    396\n",
            "Name: count, dtype: int64\n"
          ]
        }
      ]
    },
    {
      "cell_type": "code",
      "source": [
        "\n",
        "# Visualize Civil Status distribution if data is available\n",
        "if not civil_status_dist.empty:\n",
        "    civil_status_dist.plot(kind='bar', color='purple')\n",
        "    plt.title('Civil Status Distribution (25-29, Do Not Wish to Work)')\n",
        "    plt.xlabel('Civil Status')\n",
        "    plt.ylabel('Count')\n",
        "    plt.tight_layout()\n",
        "    plt.show()\n"
      ],
      "metadata": {
        "colab": {
          "base_uri": "https://localhost:8080/",
          "height": 487
        },
        "id": "AmqNklgI3bow",
        "outputId": "ca8b24a7-8789-41d9-f237-61387cd34a06"
      },
      "execution_count": null,
      "outputs": [
        {
          "output_type": "display_data",
          "data": {
            "text/plain": [
              "<Figure size 640x480 with 1 Axes>"
            ],
            "image/png": "[encoded data removed]"
          },
          "metadata": {}
        }
      ]
    },
    {
      "cell_type": "code",
      "source": [
        "\n",
        "# Visualize Environment distribution if data is available\n",
        "if not environment_dist.empty:\n",
        "    environment_dist.plot(kind='pie', autopct='%1.1f%%', startangle=140)\n",
        "    plt.title('Preferred Environment Distribution')\n",
        "    plt.ylabel('')\n",
        "    plt.tight_layout()\n",
        "    plt.show()\n"
      ],
      "metadata": {
        "colab": {
          "base_uri": "https://localhost:8080/",
          "height": 487
        },
        "id": "MkvMlymi3hZY",
        "outputId": "a553515f-c1cc-4bdb-ca63-15d5524a74fb"
      },
      "execution_count": null,
      "outputs": [
        {
          "output_type": "display_data",
          "data": {
            "text/plain": [
              "<Figure size 640x480 with 1 Axes>"
            ],
            "image/png": "[encoded data removed]"
          },
          "metadata": {}
        }
      ]
    },
    {
      "cell_type": "code",
      "source": [
        "\n",
        "# Part 2B: Demographic and Educational Data\n",
        "# Count unique regions\n",
        "unique_regions = data['Region'].nunique()\n",
        "print(f\"Number of unique regions: {unique_regions}\")\n"
      ],
      "metadata": {
        "colab": {
          "base_uri": "https://localhost:8080/"
        },
        "id": "IVhyBVxo3los",
        "outputId": "a5be1b39-cbe7-4885-d444-c252354610fb"
      },
      "execution_count": null,
      "outputs": [
        {
          "output_type": "stream",
          "name": "stdout",
          "text": [
            "Number of unique regions: 7\n"
          ]
        }
      ]
    },
    {
      "cell_type": "code",
      "source": [
        "# Analyze education levels\n",
        "education_dist = data['Educa_Level'].value_counts()\n",
        "print(\"Education Level Distribution:\\n\", education_dist)\n"
      ],
      "metadata": {
        "colab": {
          "base_uri": "https://localhost:8080/"
        },
        "id": "IqVp_SQy3oxQ",
        "outputId": "66eaa62f-e207-467b-a008-5b03bb2f53c7"
      },
      "execution_count": null,
      "outputs": [
        {
          "output_type": "stream",
          "name": "stdout",
          "text": [
            "Education Level Distribution:\n",
            " Educa_Level\n",
            "2.Primary School (Old System)           10647\n",
            "5.Basic school                           8009\n",
            "3.Secondary School (Old System)          7193\n",
            "7.Public Higher Education                5398\n",
            "6.Secondary School (New)                 5174\n",
            "1.Koranic School                          240\n",
            "4.Vocational Education (preparatory)      193\n",
            "9.Adult education                          96\n",
            "8.Private Higher Education                 29\n",
            "0.Nothing                                  17\n",
            "Name: count, dtype: int64\n"
          ]
        }
      ]
    },
    {
      "cell_type": "code",
      "source": [
        "# Create grouped education levels\n",
        "education_mapping = {\n",
        "    \"None\": \"Low\",\n",
        "    \"Primary\": \"Low\",\n",
        "    \"Secondary\": \"Medium\",\n",
        "    \"Higher\": \"High\"\n",
        "}\n",
        "data['Educa_Level_Grouped'] = data['Educa_Level'].map(education_mapping)\n",
        "print(\"Grouped Education Levels:\\n\", data['Educa_Level_Grouped'].value_counts())\n"
      ],
      "metadata": {
        "colab": {
          "base_uri": "https://localhost:8080/"
        },
        "id": "aGby9o3I3tOH",
        "outputId": "fd8dd9c6-f33b-432c-99a6-e71fd3d184a6"
      },
      "execution_count": null,
      "outputs": [
        {
          "output_type": "stream",
          "name": "stdout",
          "text": [
            "Grouped Education Levels:\n",
            " Series([], Name: count, dtype: int64)\n"
          ]
        }
      ]
    },
    {
      "cell_type": "code",
      "source": [
        "# Clean dataset by removing rows with missing critical information\n",
        "critical_columns = ['Age', 'Region', 'Weight']\n",
        "cleaned_data = data.dropna(subset=critical_columns)\n",
        "print(f\"Cleaned dataset dimensions: {cleaned_data.shape}\")\n",
        "\n"
      ],
      "metadata": {
        "colab": {
          "base_uri": "https://localhost:8080/"
        },
        "id": "_jxWP3pX3xQ4",
        "outputId": "bd925ef1-28ff-49a7-950a-16544ab62b6d"
      },
      "execution_count": null,
      "outputs": [
        {
          "output_type": "stream",
          "name": "stdout",
          "text": [
            "Cleaned dataset dimensions: (67444, 42)\n"
          ]
        }
      ]
    },
    {
      "cell_type": "code",
      "source": [
        "# Save the cleaned dataset\n",
        "cleaned_data.to_csv(\"Cleaned_Data_T4_2023.csv\", index=False)\n",
        "print(\"Cleaned data saved to Cleaned_Data_T4_2023.csv\")"
      ],
      "metadata": {
        "colab": {
          "base_uri": "https://localhost:8080/"
        },
        "id": "lJyOfrTL31XN",
        "outputId": "d38c6d92-ab21-4dfe-c126-0da34bec314d"
      },
      "execution_count": null,
      "outputs": [
        {
          "output_type": "stream",
          "name": "stdout",
          "text": [
            "Cleaned data saved to Cleaned_Data_T4_2023.csv\n"
          ]
        }
      ]
    }
  ]
}